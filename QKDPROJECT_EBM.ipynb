{
 "cells": [
  {
   "cell_type": "markdown",
   "metadata": {},
   "source": [
    "Name: Elliot B. Martindale, K-number: K21047860, Email Address: elliot.martindale@kcl.ac.uk"
   ]
  },
  {
   "cell_type": "code",
   "execution_count": 13,
   "metadata": {},
   "outputs": [],
   "source": [
    "# import modules\n",
    "from qiskit import QuantumCircuit\n",
    "from qiskit.quantum_info import Statevector\n",
    "from qiskit_aer import AerSimulator as Aer\n",
    "import numpy as np\n",
    "import random"
   ]
  },
  {
   "cell_type": "markdown",
   "metadata": {},
   "source": [
    "# QUANTUM CRYPTOGRAPHY: QKD, BB84 and Shor's Algorithm"
   ]
  },
  {
   "cell_type": "markdown",
   "metadata": {},
   "source": [
    "## Introduction to Quantum Cryptography\n",
    "\n",
    "Quantum cryptography leverages the principles of quantum mechanics to achieve secure communication, primarily through Quantum Key Distribution (QKD). Unlike classical cryptographic systems that rely on computational complexity, quantum cryptography utilises phenomena such as superposition, and the no-cloning theorem to ensure security. This approach is inherently resistant to attacks from quantum computers, which pose significant threats to traditional encryption methods.\n",
    "\n",
    "### Fundamental Principles\n",
    "1. **Superposition**: A qubit can be in a combination of `|0>` and `|1>` states.\n",
    "2. **Measurement in Different Bases**: Measurements in the standard basis and diagonal basis;\n",
    "    - **Computational Basis (Pauli-Z)**: `|0>` = (1,0) and `|1>` = (0,1)\n",
    "    - **Diagonal Basis (Pauli-X)**: `|+>` = $\\frac{1}{\\sqrt{2}}$(1,1) and `|->` = $\\frac{1}{\\sqrt{2}}$(1,-1)\n",
    "3. **No-Cloning Theorem**: A Theorem that asserts that it is impossible to create an exact copy of an arbitrary unknown quantum state. Consequently, any attempt at eavesdropping introduces detectable disturbances in the system, thereby preserving the integrity of the communication. Mathematically, for a unitary operator $(U)$ and an arbitrary quantum state $(|\\psi⟩)$, cloning would require:\n",
    "\n",
    "$$\n",
    "U(|\\psi\\rangle \\otimes |e\\rangle) = |\\psi\\rangle \\otimes |\\psi\\rangle,\n",
    "$$\n",
    "where \\(|e⟩\\) is an auxiliary \"blank\" state. The No-Cloning Theorem proves that no such \\(U\\) exists [Weigert2009].\n",
    "\n",
    "\n",
    "The concept of superposition allows a qubit to exist in a linear combination of states until measured, where the superposition collapses such that the qubit takes one of the previously superposed states. Entanglement is the idea that links the properties of particles such that by measuring the state of one, one can instantaneously determine the state of the other - even at a distance. The No-Cloning Theorem prohibits the exact copying of unknown arbitrary quantum states, thus ensuring that any attempt to intercept quantum information introduces detectable disturbances [Lindblad1999]."
   ]
  },
  {
   "cell_type": "markdown",
   "metadata": {},
   "source": [
    "## Quantum Key Distribution (QKD)\n",
    "QKD is a technique in cryptography that allows two parties to communicate a secret key to each other, even in the presence of an eavesdropper.\n",
    "\n",
    "For simplicity, we introduce communicators, ‘Alice’ and ‘Bob’, who aim to share a message securely over a potentially insecure channel of communication with an eavesdropper we'll call 'Eve'. The idea behind QKD is to encode information into quantum states, and transmit these states over a quantum channel*.\n",
    "\n",
    "*Quantum Channels can transmit quantum states i.e., polarised photons; are subject to quantum mechanical rules such as superposition collapsing upon measurement.\n",
    "\n",
    "### The Role of Quantum States in QKD\n",
    "Information is transmitted via polarised photons, representing the `|0⟩`, `|1⟩` states or a linear combination of the two. The photons are polarised by passing them through specific filters that align their polarisation to either a standard (computational) basis (vertical for `|0⟩` and horizontal for `|1⟩`) or a diagonal basis (45° for `|+⟩` and 135° for `|−⟩`).\n",
    "Both bases (computational and diagonal) are known as mutually unbiased bases [Gribling2021], meaning that a state prepared in one basis appears as a random 50-50 probability distribution when measured in the other basis."
   ]
  },
  {
   "cell_type": "markdown",
   "metadata": {},
   "source": [
    "### BB84 Protocol"
   ]
  },
  {
   "cell_type": "markdown",
   "metadata": {},
   "source": [
    "The BB84 Protocol was developed in 1984 by Charles Bennett and Gilles Brassard and is one of the fundamental protocols of Quantum Key Distribution. Bennett and Brassard introduced it as a revolutionary approach to secure communication and its aim was to address two fundamental issues in classical cryptography: the vulnerability of classical encryption to computational attacks and the inherent challenges of secure key distribution.\n",
    "\n",
    "At its core, the BB84 Protocol exploits the principles of quantum mechanics to encode information into quantum states, such as the polarisation of photons, such that any interference/eavesdropping will result in the collapse of the \"wavefunction\" superposition, disturbing their original state. The key feature of quantum states is that any attempt to measure or intercept them disturbs their original state, collapsing the superposition and introducing detectable errors. This ensures that Alice and Bob, the communicating parties previously mentioned, can not only securely exchange cryptographic keys but also detect the presence of an eavesdropper. The protocol’s reliance on quantum channels for transmitting qubits provides a level of security unattainable with classical systems, making BB84 a cornerstone of modern quantum cryptography. Below, we shall run through step-by-step, how to BB84 protocol works."
   ]
  },
  {
   "cell_type": "markdown",
   "metadata": {},
   "source": [
    "We begin with an initialisation by Alice; a defined \"encoding\" process. She decides on two parameters for each qubit she will send to Bob: a randomly chosen bit and a basis (of our mutually unbiased bases) in which to prepare bit. The code cell below defines a function to encode the bit into a random basis."
   ]
  },
  {
   "cell_type": "code",
   "execution_count": 14,
   "metadata": {},
   "outputs": [],
   "source": [
    "# function to encode a bit in a random basis\n",
    "def encode_bit(bit): # bit is 0 or 1\n",
    "    # Create a new quantum circuit with one qubit (and one classical bit to measure the qubit)\n",
    "    qc = QuantumCircuit(1, 1)\n",
    "    if bit == 1: # if the bit is 1, flip the qubit to |1> using 'NOT' (X) gate\n",
    "        qc.x(0)\n",
    "    basis = random.choice([\"Z\", \"X\"]) # randomly choose a basis\n",
    "    if basis == \"X\": # if the basis is diagonal, apply Hadamard gate to collapse the qubit to |+> or |->\n",
    "        qc.h(0)\n",
    "    return qc, basis"
   ]
  },
  {
   "cell_type": "markdown",
   "metadata": {},
   "source": [
    "Now Alice randomly chooses a string of `n` bits to initialise in a chosen base to send to Bob."
   ]
  },
  {
   "cell_type": "code",
   "execution_count": 15,
   "metadata": {},
   "outputs": [
    {
     "name": "stdout",
     "output_type": "stream",
     "text": [
      "Alice's bits: [1, 1, 0, 0, 1, 0, 0, 1, 1, 0, 0, 0, 1, 1, 0, 0, 1, 0, 1, 1, 1, 0, 0, 0, 1, 1, 1, 0, 0, 0, 0, 0, 1, 0, 1, 0, 0, 1, 1, 0, 0, 1, 1, 1, 1, 1, 0, 1, 0, 0]\n",
      "Alice's bases: ['Z', 'Z', 'Z', 'X', 'Z', 'X', 'Z', 'Z', 'X', 'Z', 'Z', 'X', 'Z', 'X', 'Z', 'X', 'Z', 'Z', 'X', 'X', 'X', 'X', 'Z', 'Z', 'X', 'X', 'Z', 'X', 'Z', 'X', 'X', 'X', 'Z', 'Z', 'Z', 'X', 'X', 'X', 'Z', 'Z', 'Z', 'Z', 'Z', 'X', 'X', 'X', 'Z', 'X', 'Z', 'X']\n"
     ]
    }
   ],
   "source": [
    "n_bits = 50  # Number of bits to transmit\n",
    "alice_bitstring = [random.randint(0, 1) for _ in range(n_bits)]\n",
    "alice_bases = []\n",
    "alice_states = []\n",
    "for bit in alice_bitstring:\n",
    "    state, basis = encode_bit(bit)\n",
    "    alice_states.append(state)\n",
    "    alice_bases.append(basis)\n",
    "\n",
    "print(\"Alice's bits:\", alice_bitstring)\n",
    "print(\"Alice's bases:\", alice_bases)"
   ]
  },
  {
   "cell_type": "markdown",
   "metadata": {},
   "source": [
    "Now we initialise Bob's random basis choices (either `X` or `Z`) for each qubit measurement; note that Bob has no knowledge of the bases used by Alice to prepare the qubit string."
   ]
  },
  {
   "cell_type": "code",
   "execution_count": 16,
   "metadata": {},
   "outputs": [
    {
     "name": "stdout",
     "output_type": "stream",
     "text": [
      "Bob's bases: ['Z', 'Z', 'X', 'Z', 'Z', 'Z', 'X', 'Z', 'Z', 'X', 'Z', 'X', 'Z', 'X', 'Z', 'Z', 'X', 'Z', 'Z', 'X', 'Z', 'X', 'X', 'Z', 'X', 'X', 'Z', 'X', 'Z', 'Z', 'X', 'X', 'Z', 'Z', 'Z', 'X', 'Z', 'X', 'X', 'Z', 'X', 'Z', 'Z', 'Z', 'X', 'Z', 'X', 'Z', 'Z', 'Z']\n"
     ]
    }
   ],
   "source": [
    "bob_bases = [random.choice([\"Z\", \"X\"]) for i in range(n_bits)]\n",
    "print(\"Bob's bases:\", bob_bases)"
   ]
  },
  {
   "cell_type": "markdown",
   "metadata": {},
   "source": [
    "Bob now needs to measure the incoming qubits from Alice in the basis he chose, there is a very small chance that his chosen basis align with Alice's. \n",
    "\n",
    "If Bob chooses the correct basis (Alice's), he will correctly determine thet bit value that Alice sent. If not, then the measurement outcome is random and the qubit will collapse into one of the states in Bob's chosen basis."
   ]
  },
  {
   "cell_type": "code",
   "execution_count": 17,
   "metadata": {},
   "outputs": [
    {
     "name": "stdout",
     "output_type": "stream",
     "text": [
      "Bob's measurements of Alice's bit-string in his own basis: [1, 1, 1, 1, 1, 0, 0, 1, 0, 0, 0, 0, 1, 1, 0, 1, 1, 0, 0, 1, 1, 0, 0, 0, 1, 1, 1, 0, 0, 1, 0, 0, 1, 0, 1, 0, 0, 1, 1, 0, 0, 1, 1, 1, 1, 0, 1, 1, 0, 1]\n"
     ]
    }
   ],
   "source": [
    "#  define a function that measures Alice's bit in the basis Bob received\n",
    "def measure_bit(state, basis):\n",
    "    # Apply the measurement basis\n",
    "    if basis == \"X\":\n",
    "        # Directly apply the Hadamard gate to the state vector\n",
    "        qc = QuantumCircuit(1) # Create a new quantum circuit with one qubit\n",
    "        qc.h(0) # Apply Hadamard gate to the qubit\n",
    "        state = Statevector(state).evolve(qc) # Apply the Hadamard gate to the state vector\n",
    "    # Calculate the probability of measuring |0> or |1>\n",
    "    statevector = Statevector(state) # Convert the state to a state vector\n",
    "    probabilities = statevector.probabilities_dict() # probabilities of measuring |0> and |1>\n",
    "    prob_zero = probabilities.get('0', 0) # probability of measuring |0>\n",
    "    prob_one = probabilities.get('1', 0)  # probability of measuring |1>\n",
    "    return 0 if random.random() < prob_zero else 1 # randomly choose 0 or 1 based on the probabilities\n",
    "\n",
    "bob_results = [measure_bit(alice_states[i], bob_bases[i]) for i in range(n_bits)] # measure each qubit in the basis Bob received from Alice\n",
    "print(\"Bob's measurements of Alice's bit-string in his own basis:\", bob_results)"
   ]
  },
  {
   "cell_type": "markdown",
   "metadata": {},
   "source": [
    "Once all qubits have been sent and measured, Alice and Bob compare the basis they used over a public (classical) channel. It is important to ntoe that they DO NOT reveal the actual measurment results or the bit values, only the bases that they each used. \n",
    "\n",
    "An eavesdropper, listening in, learns which bases were used but does not know:\n",
    "\n",
    "1. - The original quantum states Alice sent.\n",
    "2. - The measurement results Bob obtained.\n",
    "\n",
    "Note that in the function `measure_bit`, there is no need to explicitly add `if basis == standard (= Z)` because the standard basis measurement is the default when no transformation (like a Hadamard gate) is applied. Now we cross-examine both bit strings and output the final bit key elements as those who are equal in both Alice's and Bob's key."
   ]
  },
  {
   "cell_type": "code",
   "execution_count": 18,
   "metadata": {},
   "outputs": [
    {
     "name": "stdout",
     "output_type": "stream",
     "text": [
      "Alice's final key: [1, 1, 1, 1, 0, 0, 1, 1, 0, 0, 1, 0, 0, 1, 1, 1, 0, 0, 0, 0, 1, 0, 1, 0, 1, 0, 1, 1, 1, 0]\n",
      "Bob's final key: [1, 1, 1, 1, 0, 0, 1, 1, 0, 0, 1, 0, 0, 1, 1, 1, 0, 0, 0, 0, 1, 0, 1, 0, 1, 0, 1, 1, 1, 0]\n"
     ]
    }
   ],
   "source": [
    "key_indices = [i for i in range(n_bits) if alice_bases[i] == bob_bases[i]] # indices where Alice and Bob used the same basis\n",
    "alice_key = [alice_bitstring[i] for i in key_indices] \n",
    "bob_key = [bob_results[i] for i in key_indices]\n",
    "\n",
    "print(\"Alice's final key:\", alice_key)\n",
    "print(\"Bob's final key:\", bob_key)"
   ]
  },
  {
   "cell_type": "markdown",
   "metadata": {},
   "source": [
    "Alice and Bob can perform an error correction to ensure their keys are identical. Since there is no eavesdropper introduced yet, there is no need."
   ]
  },
  {
   "cell_type": "markdown",
   "metadata": {
    "vscode": {
     "languageId": "markdown"
    }
   },
   "source": [
    "#### Agreement Rate\n",
    "The agreement rate measures the consistency between the keys generated by Alice and Bob. A high agreement rate indicates that the keys are highly correlated, which is essential for secure communication. If the agreement rate is low, it suggests the presence of an eavesdropper or errors in the transmission process. Therefore, monitoring the agreement rate helps in detecting potential security breaches and ensuring the integrity of the key exchange process. In this instance, since there has been no interference or attempt of interception, we should expect the agreement rate between the final keys' to be 100%. We shall perform a sanity test below to ensure that the code is algorithm is working correctly."
   ]
  },
  {
   "cell_type": "code",
   "execution_count": 19,
   "metadata": {},
   "outputs": [
    {
     "name": "stdout",
     "output_type": "stream",
     "text": [
      "Key agreement rate: 1.0\n"
     ]
    }
   ],
   "source": [
    "agreement_consistency = sum([alice_key[i] == bob_key[i] for i in range(len(alice_key))]) / len(alice_key) # \n",
    "print(\"Key agreement rate:\", agreement_consistency)"
   ]
  },
  {
   "cell_type": "markdown",
   "metadata": {},
   "source": [
    "### Introducing an Eavesdropper (Eve)\n",
    "\n",
    "We shall now introduce an eavesdropper (called 'Eve'). Eve intercepts each qubit that Alice sends to Bob, randomly chooses a measurement basis for each qubit interception and measures the qubit in her chosen basis. Eve attempts to recreate Alice's qubit and send it to Bob, with the aim of obtaining information without being detected and mimicking the original information to Bob. \n",
    "However, Eve faces a challenge: she cannot determine which basis Alice used to prepare each qubit.\n",
    "\n",
    "Measuring the qubit in the wrong basis forces the superposition to collapse into a random state within her chosen basis, rather than the specific state Alice initially sent. For example, if Eve measures a qubit in the standard basis, she will force it to collapse randomly either to the `|0>` or `|1>` state -  with equal probability of either. In either case, this measurement does not reveal the original `|+⟩` encoding from Alice, and Eve loses the initial state information.\n",
    "\n",
    "This disturbance introduces errors into the transmission, altering the key Bob receives. So when Alice and Bob compare a subset of their key over a public channel, these inconsistencies reveal Eve's presence. They can then apply a 'privacy amplification' process to reduce the amount of information an eavesdropper might have gained; which could entail anything from applying a hash function (or similar) to the \"reconciled\" key. This function should be designed to vary based on the error detection rate."
   ]
  },
  {
   "cell_type": "code",
   "execution_count": 20,
   "metadata": {},
   "outputs": [
    {
     "name": "stdout",
     "output_type": "stream",
     "text": [
      "Bob's measurements after Eve: [0, 1, 1, 0, 0, 0, 1, 0, 0, 1, 0, 1, 1, 0, 0, 0, 0, 0, 0, 0, 1, 0, 1, 0, 1, 1, 1, 1, 0, 0, 0, 0, 1, 0, 1, 0, 1, 1, 1, 0, 0, 1, 1, 1, 1, 1, 0, 1, 0, 0]\n",
      "Alice's initial bits: [1, 1, 0, 0, 1, 0, 0, 1, 1, 0, 0, 0, 1, 1, 0, 0, 1, 0, 1, 1, 1, 0, 0, 0, 1, 1, 1, 0, 0, 0, 0, 0, 1, 0, 1, 0, 0, 1, 1, 0, 0, 1, 1, 1, 1, 1, 0, 1, 0, 0]\n"
     ]
    }
   ],
   "source": [
    "eve_bases = [random.choice([\"Z\", \"X\"]) for _ in range(n_bits)]\n",
    "eve_results = []\n",
    "\n",
    "for i in range(n_bits):\n",
    "    eve_result = measure_bit(alice_states[i], eve_bases[i])\n",
    "    eve_results.append(eve_result)\n",
    "    # Eve prepares a new state based on her measurement and basis\n",
    "    qc = QuantumCircuit(1)\n",
    "    if eve_result == 1: \n",
    "        qc.x(0) \n",
    "    if eve_bases[i] == \"X\":\n",
    "        qc.h(0) \n",
    "    alice_states[i] = Statevector.from_instruction(qc)  # Update Alice's state with Eve's interference\n",
    "\n",
    "bob_results_with_eve = [measure_bit(alice_states[i], bob_bases[i]) for i in range(n_bits)] # Bob measures the qubits he received from Alice\n",
    "print(\"Bob's measurements after Eve:\", bob_results_with_eve)\n",
    "print(\"Alice's initial bits:\", alice_bitstring)"
   ]
  },
  {
   "cell_type": "markdown",
   "metadata": {},
   "source": [
    "By analysing each index on Bob's string and comparing it with Alice's intial string, it is clear to see that Eve has failed to go undetected. When Eve attempts to intercept and measure the qubits sent by Alice, the act of measurement collapses the quantum state into one of the basis states associated with her chosen basis (in `eve_bases`), thereby disturbing the original state. As a result, when Eve tries to replicate the qubit and send it to Bob, the replicated state is not identical to the original; thus the No-Cloning Theorem is present and working. "
   ]
  },
  {
   "cell_type": "code",
   "execution_count": 21,
   "metadata": {},
   "outputs": [
    {
     "name": "stdout",
     "output_type": "stream",
     "text": [
      "Eavesdropping detected.\n"
     ]
    }
   ],
   "source": [
    "# detect eavesdropping\n",
    "sample_indices = random.sample(range(len(key_indices)), len(key_indices) // 2) # randomly choose half of the indices where Alice and Bob used the same basis\n",
    "mismatch_count = sum([alice_key[i] != bob_results_with_eve[i] for i in sample_indices]) # count the number of mismatches between Alice's key and Bob's key with Eve\n",
    "\n",
    "if mismatch_count > 0:\n",
    "    print(\"Eavesdropping detected.\")\n",
    "else:\n",
    "    print(\"No eavesdropping detected.\")"
   ]
  },
  {
   "cell_type": "markdown",
   "metadata": {},
   "source": [
    "### To Discard or not to Discard?\n",
    "An eavesdropper attempting to intercept and measure these qubits inevitably introduces errors due to the random basis mismatch during her measurements, disturbing the transmitted quantum states. In order to identify potential eavesdropping, Alice and Bob publicly compare a random subset of their keys, revealing the basis that they each used and using this to check the consistency of their results. Any discrepancies between their keys (of which they can now observe subsets, and view them both in the same basis), would indicate that there exists an eavesdropper who has altered Alice's quantum bit-string.\n",
    "\n",
    "The Error Rate defined in the code cell below is calculated as a proportion of mismatched bits in the sampled subset of the keys, and acts as a measure of the channel's security.  If the error rate remains below a predefined threshold, Alice and Bob can confidently retain the untested portion of the key, assuming minimal eavesdropper interference. If the error rate exceeds the threshold, it suggests significant eavesdropping activity. "
   ]
  },
  {
   "cell_type": "code",
   "execution_count": 22,
   "metadata": {},
   "outputs": [
    {
     "name": "stdout",
     "output_type": "stream",
     "text": [
      "Error exceeds threshold. Applying privacy amplification.\n",
      "Error rate measured: 0.4\n",
      "Final, secure, agreed-upon key: [1, 1, 1, 1, 0, 0, 0]\n"
     ]
    }
   ],
   "source": [
    "# Step 1: Eavesdropping detection using a sample\n",
    "sample_indices = random.sample(range(len(key_indices)), len(key_indices) // 2)\n",
    "mismatch_count = sum([alice_key[i] != bob_results_with_eve[i] for i in sample_indices])\n",
    "\n",
    "# Set an error rate threshold (e.g., 10%)\n",
    "error_rate_threshold = 0.1\n",
    "sample_size = len(sample_indices)\n",
    "actual_error_rate = mismatch_count / sample_size\n",
    "\n",
    "# Step 2: Determine if the error rate is acceptable\n",
    "if actual_error_rate <= error_rate_threshold:\n",
    "    print(\"Error rate within acceptable limits. Proceeding with the key.\")\n",
    "    # Retain only bits not in the sample, as they haven't been publicly compared\n",
    "    secure_key = [alice_key[i] for i in range(len(alice_key)) if i not in sample_indices]\n",
    "else:\n",
    "    print(\"Error exceeds threshold. Applying privacy amplification.\")\n",
    "    # Privacy amplification: keep only part of the key to minimize Eve's possible information\n",
    "    secure_key = [alice_key[i] for i in range(len(alice_key)) if i not in sample_indices]\n",
    "    secure_key = secure_key[:len(secure_key) // 2]  # apply hash function; keep only half the bits\n",
    "\n",
    "print(\"Error rate measured:\", actual_error_rate)\n",
    "print(\"Final, secure, agreed-upon key:\", secure_key)"
   ]
  },
  {
   "cell_type": "markdown",
   "metadata": {},
   "source": [
    "If eavesdropping is detected, Alice and Bob minimise the information Eve might have gained by using a privacy amplification method. They take a sample of their shared key, discard likely compromised bits based on the error rate, and apply a publicly shared hash function to produce a shorter, secure key. In this project, the hash function used was to remove half of the bits in the string.\n",
    "If the error rate exceeds a tolerable threshold, they discard the entire key and restart the protocol. This ensures the remaining key is secure and resistant to Eve's interference."
   ]
  },
  {
   "cell_type": "markdown",
   "metadata": {},
   "source": [
    "Remember, Eve does not know whether her chosen basis aligns with Alice's so her measurement introduces errors in the qubit string that Bob receives. \n",
    "Put simply, if Eve measures a qubit in the computational (`Z`) basis when it was prepared in the diagonal (`X`) basis, her measurement outcome will be random. She has a 50% probability of collapsing the state into either `|0⟩` or `|1⟩`, regardless of the actual state. Any attempt to recreate the original qubit (in order to go undetected) will result in a $50\\%$ probability of matching the original state. Since the bases used by Alice and Bob are share post measurement, this problem is unavoidable for Eve; highlighting the inherent security of the BB84 Protocol."
   ]
  },
  {
   "cell_type": "markdown",
   "metadata": {},
   "source": [
    "### Simulating BB84 Protocol: Quantum Circuit via Qiskit\n",
    "Below, we utilise qiskit to create a visual representation of the quantum circuit for `n_bits`. To reduce computational expenditure, we shall recall the algorithm and use a lower number of bits [IBM2023]."
   ]
  },
  {
   "cell_type": "code",
   "execution_count": 23,
   "metadata": {},
   "outputs": [
    {
     "data": {
      "image/png": "[encoded data removed]",
      "text/plain": [
       "<Figure size 1290.83x535.111 with 1 Axes>"
      ]
     },
     "execution_count": 23,
     "metadata": {},
     "output_type": "execute_result"
    }
   ],
   "source": [
    "n_bits = 5\n",
    "\n",
    "alice_bits = [random.randint(0, 1) for i in range(n_bits)] \n",
    "alice_bases = [random.choice([\"Z\", \"X\"]) for i in range(n_bits)]\n",
    "\n",
    "bob_bases = [random.choice([\"Z\", \"X\"]) for i in range(n_bits)]\n",
    "eve_bases = [random.choice([\"Z\", \"X\"]) for i in range(n_bits)]\n",
    "\n",
    "qc = QuantumCircuit(n_bits, n_bits) # simulate bb84 via quantum circuit\n",
    "\n",
    "# Alice's encoding\n",
    "for i in range(n_bits):\n",
    "    if alice_bases[i] == \"Z\":\n",
    "        # If Alice chooses Z basis:\n",
    "        if alice_bits[i] == 1:\n",
    "            qc.x(i)  # Apply X gate if the bit is 1\n",
    "    elif alice_bases[i] == \"X\":\n",
    "        # If Alice chooses X basis:\n",
    "        if alice_bits[i] == 1:\n",
    "            qc.x(i)  # Apply X gate to flip the qubit\n",
    "        qc.h(i)  # Apply Hadamard to encode in the X basis\n",
    "\n",
    "# Eve's measurements\n",
    "for i in range(n_bits):\n",
    "    # Eve applies H only if her basis is X and Alice's basis was not X\n",
    "    if eve_bases[i] == \"X\" and alice_bases[i] != \"X\":\n",
    "        qc.h(i) # Apply Hadamard gate to the qubit\n",
    "    qc.measure(i,i) # Measure the qubit and store the result in the classical bit\n",
    "    qc.reset(i) # Reset the qubit to |0> state\n",
    "    if eve_bases[i] == \"X\":\n",
    "        qc.h(i) # Apply Hadamard gate to the qubit if her basis is X\n",
    "\n",
    "# Bob's measurements\n",
    "for i in range(n_bits):\n",
    "    if bob_bases[i] == \"X\":\n",
    "        qc.h(i)  # Bob applies H if his basis is X\n",
    "qc.measure(range(n_bits), range(n_bits))\n",
    "\n",
    "qc.draw(output='mpl')"
   ]
  },
  {
   "cell_type": "markdown",
   "metadata": {},
   "source": [
    "The quantum circuit above represents a randomly produced BB84 protocol implementation of `n_bits`. We introduce `n_bits` many qubits and pair them up each with a classical bit (`C`) to store the measurement.\n",
    "Note that the first measurement is done by Eve which, of course, collapses the superposition into one of the states. She attempts to be undetectable by applying a Hadamard gate in order to re-encode the qubit with the same basis she used."
   ]
  },
  {
   "cell_type": "markdown",
   "metadata": {},
   "source": [
    "### Limitations of QKD\n",
    "Current QKD systems rely on fragile hardware like single-photon detectors and sources, which are susceptible to environmental noise. Forms of \"noise\" could include photon loss and depolarisation of photons. Such sources of noise introduce random errors in the transmitted qubits, leading to discrepancies between Alice's and Bob's keys even in the absence of eavesdropping.\n",
    "\n",
    "There is another pressing problem in QKD known as 'Denial of Service' (DoS). This problem occurs when Eve intercepts Alice's key and, whilst she may not guess the correct basis for each qubit entry, she alters Bob's final key so much that there is close to no correlation between Alice's and Bob's keys. This results in zero information being passed between Alice and Bob. This poses a very real threat, proving that current QKD systems are vulnerable to attacks that disrupt communication channels without directly intercepting data [Kish-et-al.2024]."
   ]
  },
  {
   "cell_type": "markdown",
   "metadata": {},
   "source": [
    "## RSA Encryption and Shor's Algorithm\n",
    "RSA Encryption is relies on the classical computational cost of factoring large integers, `N`, into their prime components. A public key is used to encrypt messages/data, whilst a private key is used for decryption. Classical algorithms are inefficient in computing `N` as a product of prime factors, only solving it with an exponential time complexity - ensuring the security of RSA, via classical computers.\n",
    "\n",
    "However, quantum computers pose a threat to RSA. Enter Shor's Algorithm.\n",
    "\n",
    "Shor's algorithm addresses the problem of integer factorisation [Shor1995] and with the use of quantum computers, runs in polynomial time and adopts superposition and interference processes to perform a period-finding operation faster than a classical computer would. Upon calculating the period, the prime factors of `N` can be computed with classical algorithms - thus rendering RSA (soon to be) insecure with the rise of quantum computation."
   ]
  },
  {
   "cell_type": "markdown",
   "metadata": {},
   "source": [
    "# Bibliography\n",
    "[Reddy&Mohan2023] Reddy, SujayKumar and Chandra Mohan. “Comprehensive Analysis of BB84, A Quantum Key Distribution Protocol.” ArXiv abs/2312.05609 (2023) {https://arxiv.org/pdf/2312.05609}\n",
    "\n",
    "[Lindblad1999] {Lindblad, G. A General No-Cloning Theorem. Letters in Mathematical Physics 47, 189–196 (1999). https://doi.org/10.1023/A:1007581027660}\n",
    "\n",
    "[Weigert2009] {Weigert, Stefan. (2009). No-Cloning Theorem. 10.1007/978-3-540-70626-7_124.}\n",
    "\n",
    "[IBM2023] {Qiskit contributors. (2023). Qiskit: An open-source framework for quantum computing. https://qiskit.org}\n",
    "\n",
    "[Gribling2021] {Gribling, Sander and Sven Polak “Mutually unbiased bases: polynomial optimization and symmetry.” Quantum (2021): (https://arxiv.org/abs/2111.05698)}\n",
    "\n",
    "[Kish-et-al.2024] {“Mitigation of channel tampering attacks in continuous-variable quantum key distribution.” Physical Review Research (2024): https://arxiv.org/abs/2401.15898}\n",
    "\n",
    "[Shor1995] {Shor, Peter W.. “Polynomial-Time Algorithms for Prime Factorization and Discrete Logarithms on a Quantum Computer.” SIAM Rev. 41 (1995): 303-332.}"
   ]
  }
 ],
 "metadata": {
  "kernelspec": {
   "display_name": "base",
   "language": "python",
   "name": "python3"
  },
  "language_info": {
   "codemirror_mode": {
    "name": "ipython",
    "version": 3
   },
   "file_extension": ".py",
   "mimetype": "text/x-python",
   "name": "python",
   "nbconvert_exporter": "python",
   "pygments_lexer": "ipython3",
   "version": "3.12.3"
  }
 },
 "nbformat": 4,
 "nbformat_minor": 2
}
